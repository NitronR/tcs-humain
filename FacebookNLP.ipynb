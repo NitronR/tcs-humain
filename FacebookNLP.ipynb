{
 "cells": [
  {
   "cell_type": "code",
   "execution_count": 1,
   "metadata": {
    "colab": {
     "base_uri": "https://localhost:8080/",
     "height": 34
    },
    "colab_type": "code",
    "id": "_i-Rth0vrA-g",
    "outputId": "6c01a367-9fbe-41c4-c4eb-4515f7111140"
   },
   "outputs": [
    {
     "name": "stdout",
     "output_type": "stream",
     "text": [
      "Drive already mounted at /content/gdrive; to attempt to forcibly remount, call drive.mount(\"/content/gdrive\", force_remount=True).\n"
     ]
    }
   ],
   "source": [
    "from google.colab import drive\n",
    "drive.mount('/content/gdrive')"
   ]
  },
  {
   "cell_type": "code",
   "execution_count": 0,
   "metadata": {
    "colab": {},
    "colab_type": "code",
    "id": "tsJ7DAECxvmS"
   },
   "outputs": [],
   "source": [
    "import pandas as pd\n",
    "import numpy as np\n",
    "from fastai import *\n",
    "from fastai.text import *"
   ]
  },
  {
   "cell_type": "code",
   "execution_count": 0,
   "metadata": {
    "colab": {},
    "colab_type": "code",
    "id": "Y8EtoZRJx8Q5"
   },
   "outputs": [],
   "source": [
    "root = Path(\"/content/gdrive/My Drive/Developer/Data Science/Facebook taxonomy/\")\n",
    "data_root = root/'data'\n",
    "bs = 48"
   ]
  },
  {
   "cell_type": "markdown",
   "metadata": {
    "colab_type": "text",
    "id": "Qmp3J8opxhxP"
   },
   "source": [
    "# Load data"
   ]
  },
  {
   "cell_type": "markdown",
   "metadata": {
    "colab_type": "text",
    "id": "MWBRGwLl6m1s"
   },
   "source": [
    "Load 10000 rows of training data"
   ]
  },
  {
   "cell_type": "code",
   "execution_count": 0,
   "metadata": {
    "colab": {},
    "colab_type": "code",
    "id": "wnJEEJghxsTr"
   },
   "outputs": [],
   "source": [
    "train_csv = pd.read_csv(data_root/\"Train.csv\",nrows=10000)"
   ]
  },
  {
   "cell_type": "code",
   "execution_count": 5,
   "metadata": {
    "colab": {
     "base_uri": "https://localhost:8080/",
     "height": 206
    },
    "colab_type": "code",
    "id": "dr92is8LyOMS",
    "outputId": "e4b1e846-6f0f-48c8-a7a8-e21aaf256cab"
   },
   "outputs": [
    {
     "data": {
      "text/html": [
       "<div>\n",
       "<style scoped>\n",
       "    .dataframe tbody tr th:only-of-type {\n",
       "        vertical-align: middle;\n",
       "    }\n",
       "\n",
       "    .dataframe tbody tr th {\n",
       "        vertical-align: top;\n",
       "    }\n",
       "\n",
       "    .dataframe thead th {\n",
       "        text-align: right;\n",
       "    }\n",
       "</style>\n",
       "<table border=\"1\" class=\"dataframe\">\n",
       "  <thead>\n",
       "    <tr style=\"text-align: right;\">\n",
       "      <th></th>\n",
       "      <th>Id</th>\n",
       "      <th>Title</th>\n",
       "      <th>Body</th>\n",
       "      <th>Tags</th>\n",
       "    </tr>\n",
       "  </thead>\n",
       "  <tbody>\n",
       "    <tr>\n",
       "      <th>0</th>\n",
       "      <td>1</td>\n",
       "      <td>How to check if an uploaded file is an image w...</td>\n",
       "      <td>&lt;p&gt;I'd like to check if an uploaded file is an...</td>\n",
       "      <td>php image-processing file-upload upload mime-t...</td>\n",
       "    </tr>\n",
       "    <tr>\n",
       "      <th>1</th>\n",
       "      <td>2</td>\n",
       "      <td>How can I prevent firefox from closing when I ...</td>\n",
       "      <td>&lt;p&gt;In my favorite editor (vim), I regularly us...</td>\n",
       "      <td>firefox</td>\n",
       "    </tr>\n",
       "    <tr>\n",
       "      <th>2</th>\n",
       "      <td>3</td>\n",
       "      <td>R Error Invalid type (list) for variable</td>\n",
       "      <td>&lt;p&gt;I am import matlab file and construct a dat...</td>\n",
       "      <td>r matlab machine-learning</td>\n",
       "    </tr>\n",
       "    <tr>\n",
       "      <th>3</th>\n",
       "      <td>4</td>\n",
       "      <td>How do I replace special characters in a URL?</td>\n",
       "      <td>&lt;p&gt;This is probably very simple, but I simply ...</td>\n",
       "      <td>c# url encoding</td>\n",
       "    </tr>\n",
       "    <tr>\n",
       "      <th>4</th>\n",
       "      <td>5</td>\n",
       "      <td>How to modify whois contact details?</td>\n",
       "      <td>&lt;pre&gt;&lt;code&gt;function modify(.......)\\n{\\n  $mco...</td>\n",
       "      <td>php api file-get-contents</td>\n",
       "    </tr>\n",
       "  </tbody>\n",
       "</table>\n",
       "</div>"
      ],
      "text/plain": [
       "   Id  ...                                               Tags\n",
       "0   1  ...  php image-processing file-upload upload mime-t...\n",
       "1   2  ...                                            firefox\n",
       "2   3  ...                          r matlab machine-learning\n",
       "3   4  ...                                    c# url encoding\n",
       "4   5  ...                          php api file-get-contents\n",
       "\n",
       "[5 rows x 4 columns]"
      ]
     },
     "execution_count": 5,
     "metadata": {
      "tags": []
     },
     "output_type": "execute_result"
    }
   ],
   "source": [
    "train_csv.head()"
   ]
  },
  {
   "cell_type": "markdown",
   "metadata": {
    "colab_type": "text",
    "id": "rUe8BxH_0AyN"
   },
   "source": [
    "# Explore data"
   ]
  },
  {
   "cell_type": "markdown",
   "metadata": {
    "colab_type": "text",
    "id": "dxSCB2GC0CyN"
   },
   "source": [
    "Number of unique tags"
   ]
  },
  {
   "cell_type": "code",
   "execution_count": null,
   "metadata": {
    "colab": {},
    "colab_type": "code",
    "id": "lAYXKxuo0IM5"
   },
   "outputs": [],
   "source": []
  },
  {
   "cell_type": "markdown",
   "metadata": {
    "colab_type": "text",
    "id": "n-64K4TBy4oB"
   },
   "source": [
    "# Language model"
   ]
  },
  {
   "cell_type": "markdown",
   "metadata": {
    "colab_type": "text",
    "id": "2zzXRJxd1XQw"
   },
   "source": [
    "## Prepare language model data"
   ]
  },
  {
   "cell_type": "code",
   "execution_count": 0,
   "metadata": {
    "colab": {},
    "colab_type": "code",
    "id": "uInJF93izm33"
   },
   "outputs": [],
   "source": [
    "lmdata = (TextList.from_df(train_csv,cols=['Title','Body'])\n",
    "             .split_by_rand_pct(.2)\n",
    "             .label_for_lm()\n",
    "             .databunch(bs=bs))"
   ]
  },
  {
   "cell_type": "code",
   "execution_count": 11,
   "metadata": {
    "colab": {
     "base_uri": "https://localhost:8080/",
     "height": 293
    },
    "colab_type": "code",
    "id": "HVB5FdQW00ww",
    "outputId": "53221ebb-4e6f-48d2-dc25-1be1463aa559"
   },
   "outputs": [
    {
     "data": {
      "text/html": [
       "<table border=\"1\" class=\"dataframe\">\n",
       "  <thead>\n",
       "    <tr style=\"text-align: right;\">\n",
       "      <th>idx</th>\n",
       "      <th>text</th>\n",
       "    </tr>\n",
       "  </thead>\n",
       "  <tbody>\n",
       "    <tr>\n",
       "      <td>0</td>\n",
       "      <td>a ' text / xxunk ' or something as the mime type , no matter which file type you upload . &lt; / p &gt; \\n \\n  &lt; p &gt; xxmaj is there a way to check if the uploaded file is an image apart from checking the file extension using xxup php ? &lt; / p &gt; \\n  xxbos xxmaj how can i prevent firefox from closing</td>\n",
       "    </tr>\n",
       "    <tr>\n",
       "      <td>1</td>\n",
       "      <td>texlive 2010 . i need to upgrade my installation of xxup pgf to 2.0 from xxunk , which is what comes standard with the mactex distribution . xxmaj could someone walk me through all the steps to do this , on a mac running 10.6 , assuming i 'm xxunk when it comes to installing tex stuff ? &lt; / p &gt; \\n \\n  &lt; p &gt; xxmaj i'd</td>\n",
       "    </tr>\n",
       "    <tr>\n",
       "      <td>2</td>\n",
       "      <td>of the network . &lt; / p &gt; \\n  xxbos using an array as the data - source for cgridview &lt; p &gt; xxmaj im hoping this will work .. i m writing and invoicing application and would like to hold the current invoice in an array which can be xxunk in a blob field . xxmaj this would also be used for archive changes etc . &lt; /</td>\n",
       "    </tr>\n",
       "    <tr>\n",
       "      <td>3</td>\n",
       "      <td>&lt; / pre &gt; \\n \\n  &lt; p &gt; xxmaj all the three services take ivalidator as the constructor param . &lt; / p &gt; \\n \\n  &lt; p &gt; xxmaj in the web layer , i have 3 controllers &lt; code &gt; xxunk &lt; / code &gt; taking in &lt; code &gt; iuserservice &lt; / code &gt; as the constructor param , &lt; code &gt; xxunk &lt;</td>\n",
       "    </tr>\n",
       "    <tr>\n",
       "      <td>4</td>\n",
       "      <td>if i 'm wrong ) . i 'd like something distributed , so if the srv a comes back , it wo n't overwrite the database built during the downtime on srv xxup b. i only have 3 servers , so setting up a cluster is not an option . &lt; / p &gt; \\n \\n  &lt; p &gt; xxmaj i'd be glad if anybody could help me with</td>\n",
       "    </tr>\n",
       "  </tbody>\n",
       "</table>"
      ],
      "text/plain": [
       "<IPython.core.display.HTML object>"
      ]
     },
     "metadata": {
      "tags": []
     },
     "output_type": "display_data"
    }
   ],
   "source": [
    "lmdata.show_batch()"
   ]
  },
  {
   "cell_type": "markdown",
   "metadata": {
    "colab_type": "text",
    "id": "ha_D9-fB1WIN"
   },
   "source": [
    "## Train language model"
   ]
  },
  {
   "cell_type": "code",
   "execution_count": 0,
   "metadata": {
    "colab": {},
    "colab_type": "code",
    "id": "COSlvYmD1dfQ"
   },
   "outputs": [],
   "source": [
    "learn = language_model_learner(lmdata,AWD_LSTM,drop_mult=.5)"
   ]
  },
  {
   "cell_type": "code",
   "execution_count": 13,
   "metadata": {
    "colab": {
     "base_uri": "https://localhost:8080/",
     "height": 34
    },
    "colab_type": "code",
    "id": "fT8NJ50F2lE6",
    "outputId": "cb09dcf3-3422-450a-e15a-a1a6c43cfd6b"
   },
   "outputs": [
    {
     "data": {
      "text/html": [],
      "text/plain": [
       "<IPython.core.display.HTML object>"
      ]
     },
     "metadata": {
      "tags": []
     },
     "output_type": "display_data"
    },
    {
     "name": "stdout",
     "output_type": "stream",
     "text": [
      "LR Finder is complete, type {learner_name}.recorder.plot() to see the graph.\n"
     ]
    }
   ],
   "source": [
    "learn.lr_find()"
   ]
  },
  {
   "cell_type": "code",
   "execution_count": 14,
   "metadata": {
    "colab": {
     "base_uri": "https://localhost:8080/",
     "height": 283
    },
    "colab_type": "code",
    "id": "0-hN4gqe2nXZ",
    "outputId": "3b4bc051-d890-4084-dead-cd241cd9bb62"
   },
   "outputs": [
    {
     "data": {
      "image/png": "[encoded data removed]",
      "text/plain": [
       "<Figure size 432x288 with 1 Axes>"
      ]
     },
     "metadata": {
      "tags": []
     },
     "output_type": "display_data"
    }
   ],
   "source": [
    "learn.recorder.plot()"
   ]
  },
  {
   "cell_type": "code",
   "execution_count": 15,
   "metadata": {
    "colab": {
     "base_uri": "https://localhost:8080/",
     "height": 615
    },
    "colab_type": "code",
    "id": "mqkgv7Vk2yGZ",
    "outputId": "c600870b-5a86-47aa-f081-907622a5d155"
   },
   "outputs": [
    {
     "data": {
      "text/html": [
       "\n",
       "    <div>\n",
       "        <style>\n",
       "            /* Turns off some styling */\n",
       "            progress {\n",
       "                /* gets rid of default border in Firefox and Opera. */\n",
       "                border: none;\n",
       "                /* Needs to be in here for Safari polyfill so background images work as expected. */\n",
       "                background-size: auto;\n",
       "            }\n",
       "            .progress-bar-interrupted, .progress-bar-interrupted::-webkit-progress-bar {\n",
       "                background: #F44336;\n",
       "            }\n",
       "        </style>\n",
       "      <progress value='16' class='' max='20', style='width:300px; height:20px; vertical-align: middle;'></progress>\n",
       "      80.00% [16/20 1:21:01<20:15]\n",
       "    </div>\n",
       "    \n",
       "<table border=\"1\" class=\"dataframe\">\n",
       "  <thead>\n",
       "    <tr style=\"text-align: left;\">\n",
       "      <th>epoch</th>\n",
       "      <th>train_loss</th>\n",
       "      <th>valid_loss</th>\n",
       "      <th>accuracy</th>\n",
       "      <th>time</th>\n",
       "    </tr>\n",
       "  </thead>\n",
       "  <tbody>\n",
       "    <tr>\n",
       "      <td>0</td>\n",
       "      <td>3.960902</td>\n",
       "      <td>3.501057</td>\n",
       "      <td>0.370941</td>\n",
       "      <td>05:03</td>\n",
       "    </tr>\n",
       "    <tr>\n",
       "      <td>1</td>\n",
       "      <td>3.511514</td>\n",
       "      <td>3.126700</td>\n",
       "      <td>0.419497</td>\n",
       "      <td>05:03</td>\n",
       "    </tr>\n",
       "    <tr>\n",
       "      <td>2</td>\n",
       "      <td>3.295578</td>\n",
       "      <td>3.000760</td>\n",
       "      <td>0.433932</td>\n",
       "      <td>05:03</td>\n",
       "    </tr>\n",
       "    <tr>\n",
       "      <td>3</td>\n",
       "      <td>3.181963</td>\n",
       "      <td>2.975953</td>\n",
       "      <td>0.436971</td>\n",
       "      <td>05:03</td>\n",
       "    </tr>\n",
       "    <tr>\n",
       "      <td>4</td>\n",
       "      <td>3.139009</td>\n",
       "      <td>2.973102</td>\n",
       "      <td>0.436015</td>\n",
       "      <td>05:04</td>\n",
       "    </tr>\n",
       "    <tr>\n",
       "      <td>5</td>\n",
       "      <td>3.040317</td>\n",
       "      <td>2.975095</td>\n",
       "      <td>0.438588</td>\n",
       "      <td>05:03</td>\n",
       "    </tr>\n",
       "    <tr>\n",
       "      <td>6</td>\n",
       "      <td>2.996011</td>\n",
       "      <td>2.979198</td>\n",
       "      <td>0.437218</td>\n",
       "      <td>05:04</td>\n",
       "    </tr>\n",
       "    <tr>\n",
       "      <td>7</td>\n",
       "      <td>2.881905</td>\n",
       "      <td>2.976108</td>\n",
       "      <td>0.440004</td>\n",
       "      <td>05:04</td>\n",
       "    </tr>\n",
       "    <tr>\n",
       "      <td>8</td>\n",
       "      <td>2.882665</td>\n",
       "      <td>2.963390</td>\n",
       "      <td>0.441521</td>\n",
       "      <td>05:03</td>\n",
       "    </tr>\n",
       "    <tr>\n",
       "      <td>9</td>\n",
       "      <td>2.848098</td>\n",
       "      <td>2.964565</td>\n",
       "      <td>0.440570</td>\n",
       "      <td>05:03</td>\n",
       "    </tr>\n",
       "    <tr>\n",
       "      <td>10</td>\n",
       "      <td>2.763039</td>\n",
       "      <td>2.956476</td>\n",
       "      <td>0.443261</td>\n",
       "      <td>05:03</td>\n",
       "    </tr>\n",
       "    <tr>\n",
       "      <td>11</td>\n",
       "      <td>2.759907</td>\n",
       "      <td>2.952204</td>\n",
       "      <td>0.441907</td>\n",
       "      <td>05:03</td>\n",
       "    </tr>\n",
       "    <tr>\n",
       "      <td>12</td>\n",
       "      <td>2.721271</td>\n",
       "      <td>2.939636</td>\n",
       "      <td>0.446000</td>\n",
       "      <td>05:03</td>\n",
       "    </tr>\n",
       "    <tr>\n",
       "      <td>13</td>\n",
       "      <td>2.629973</td>\n",
       "      <td>2.932531</td>\n",
       "      <td>0.446825</td>\n",
       "      <td>05:03</td>\n",
       "    </tr>\n",
       "    <tr>\n",
       "      <td>14</td>\n",
       "      <td>2.601010</td>\n",
       "      <td>2.926954</td>\n",
       "      <td>0.447198</td>\n",
       "      <td>05:03</td>\n",
       "    </tr>\n",
       "    <tr>\n",
       "      <td>15</td>\n",
       "      <td>2.573542</td>\n",
       "      <td>2.923334</td>\n",
       "      <td>0.447936</td>\n",
       "      <td>05:03</td>\n",
       "    </tr>\n",
       "  </tbody>\n",
       "</table><p>\n",
       "\n",
       "    <div>\n",
       "        <style>\n",
       "            /* Turns off some styling */\n",
       "            progress {\n",
       "                /* gets rid of default border in Firefox and Opera. */\n",
       "                border: none;\n",
       "                /* Needs to be in here for Safari polyfill so background images work as expected. */\n",
       "                background-size: auto;\n",
       "            }\n",
       "            .progress-bar-interrupted, .progress-bar-interrupted::-webkit-progress-bar {\n",
       "                background: #F44336;\n",
       "            }\n",
       "        </style>\n",
       "      <progress value='623' class='' max='685', style='width:300px; height:20px; vertical-align: middle;'></progress>\n",
       "      90.95% [623/685 04:10<00:24 2.5229]\n",
       "    </div>\n",
       "    "
      ],
      "text/plain": [
       "<IPython.core.display.HTML object>"
      ]
     },
     "metadata": {
      "tags": []
     },
     "output_type": "display_data"
    },
    {
     "name": "stdout",
     "output_type": "stream",
     "text": [
      "Buffered data was truncated after reaching the output size limit."
     ]
    }
   ],
   "source": [
    "learn.fit_one_cycle(20, 1e-2, moms=(0.8,0.7))"
   ]
  },
  {
   "cell_type": "code",
   "execution_count": 0,
   "metadata": {
    "colab": {},
    "colab_type": "code",
    "id": "KpvUl0_W29F2"
   },
   "outputs": [],
   "source": [
    "learn.save('s1')"
   ]
  },
  {
   "cell_type": "markdown",
   "metadata": {
    "colab_type": "text",
    "id": "fXLup5WJ638B"
   },
   "source": [
    "## Fine tune"
   ]
  },
  {
   "cell_type": "code",
   "execution_count": 0,
   "metadata": {
    "colab": {},
    "colab_type": "code",
    "id": "hEvcJwiE2_Ux"
   },
   "outputs": [],
   "source": [
    "learn.unfreeze()"
   ]
  },
  {
   "cell_type": "code",
   "execution_count": 18,
   "metadata": {
    "colab": {
     "base_uri": "https://localhost:8080/",
     "height": 615
    },
    "colab_type": "code",
    "id": "-UK8ovgw3CNn",
    "outputId": "3df0088f-080f-4952-d904-49a3d1ed4b80"
   },
   "outputs": [
    {
     "data": {
      "text/html": [
       "\n",
       "    <div>\n",
       "        <style>\n",
       "            /* Turns off some styling */\n",
       "            progress {\n",
       "                /* gets rid of default border in Firefox and Opera. */\n",
       "                border: none;\n",
       "                /* Needs to be in here for Safari polyfill so background images work as expected. */\n",
       "                background-size: auto;\n",
       "            }\n",
       "            .progress-bar-interrupted, .progress-bar-interrupted::-webkit-progress-bar {\n",
       "                background: #F44336;\n",
       "            }\n",
       "        </style>\n",
       "      <progress value='16' class='' max='20', style='width:300px; height:20px; vertical-align: middle;'></progress>\n",
       "      80.00% [16/20 1:36:29<24:07]\n",
       "    </div>\n",
       "    \n",
       "<table border=\"1\" class=\"dataframe\">\n",
       "  <thead>\n",
       "    <tr style=\"text-align: left;\">\n",
       "      <th>epoch</th>\n",
       "      <th>train_loss</th>\n",
       "      <th>valid_loss</th>\n",
       "      <th>accuracy</th>\n",
       "      <th>time</th>\n",
       "    </tr>\n",
       "  </thead>\n",
       "  <tbody>\n",
       "    <tr>\n",
       "      <td>0</td>\n",
       "      <td>2.341699</td>\n",
       "      <td>2.779054</td>\n",
       "      <td>0.471573</td>\n",
       "      <td>06:02</td>\n",
       "    </tr>\n",
       "    <tr>\n",
       "      <td>1</td>\n",
       "      <td>2.479545</td>\n",
       "      <td>2.781599</td>\n",
       "      <td>0.471737</td>\n",
       "      <td>06:02</td>\n",
       "    </tr>\n",
       "    <tr>\n",
       "      <td>2</td>\n",
       "      <td>2.647263</td>\n",
       "      <td>2.785634</td>\n",
       "      <td>0.474098</td>\n",
       "      <td>06:02</td>\n",
       "    </tr>\n",
       "    <tr>\n",
       "      <td>3</td>\n",
       "      <td>2.781404</td>\n",
       "      <td>2.828656</td>\n",
       "      <td>0.468745</td>\n",
       "      <td>06:02</td>\n",
       "    </tr>\n",
       "    <tr>\n",
       "      <td>4</td>\n",
       "      <td>2.889367</td>\n",
       "      <td>2.838465</td>\n",
       "      <td>0.469993</td>\n",
       "      <td>06:02</td>\n",
       "    </tr>\n",
       "    <tr>\n",
       "      <td>5</td>\n",
       "      <td>2.842607</td>\n",
       "      <td>2.834444</td>\n",
       "      <td>0.470435</td>\n",
       "      <td>06:02</td>\n",
       "    </tr>\n",
       "    <tr>\n",
       "      <td>6</td>\n",
       "      <td>2.778823</td>\n",
       "      <td>2.801241</td>\n",
       "      <td>0.474556</td>\n",
       "      <td>06:01</td>\n",
       "    </tr>\n",
       "    <tr>\n",
       "      <td>7</td>\n",
       "      <td>2.716709</td>\n",
       "      <td>2.768827</td>\n",
       "      <td>0.478977</td>\n",
       "      <td>06:01</td>\n",
       "    </tr>\n",
       "    <tr>\n",
       "      <td>8</td>\n",
       "      <td>2.675259</td>\n",
       "      <td>2.741563</td>\n",
       "      <td>0.483474</td>\n",
       "      <td>06:01</td>\n",
       "    </tr>\n",
       "    <tr>\n",
       "      <td>9</td>\n",
       "      <td>2.571604</td>\n",
       "      <td>2.722477</td>\n",
       "      <td>0.484910</td>\n",
       "      <td>06:01</td>\n",
       "    </tr>\n",
       "    <tr>\n",
       "      <td>10</td>\n",
       "      <td>2.533125</td>\n",
       "      <td>2.702032</td>\n",
       "      <td>0.488342</td>\n",
       "      <td>06:00</td>\n",
       "    </tr>\n",
       "    <tr>\n",
       "      <td>11</td>\n",
       "      <td>2.349821</td>\n",
       "      <td>2.692088</td>\n",
       "      <td>0.490349</td>\n",
       "      <td>06:01</td>\n",
       "    </tr>\n",
       "    <tr>\n",
       "      <td>12</td>\n",
       "      <td>2.271782</td>\n",
       "      <td>2.679068</td>\n",
       "      <td>0.494001</td>\n",
       "      <td>06:01</td>\n",
       "    </tr>\n",
       "    <tr>\n",
       "      <td>13</td>\n",
       "      <td>2.192462</td>\n",
       "      <td>2.671283</td>\n",
       "      <td>0.495285</td>\n",
       "      <td>06:01</td>\n",
       "    </tr>\n",
       "    <tr>\n",
       "      <td>14</td>\n",
       "      <td>2.036821</td>\n",
       "      <td>2.676824</td>\n",
       "      <td>0.495271</td>\n",
       "      <td>06:01</td>\n",
       "    </tr>\n",
       "    <tr>\n",
       "      <td>15</td>\n",
       "      <td>1.950749</td>\n",
       "      <td>2.682470</td>\n",
       "      <td>0.497617</td>\n",
       "      <td>06:01</td>\n",
       "    </tr>\n",
       "  </tbody>\n",
       "</table><p>\n",
       "\n",
       "    <div>\n",
       "        <style>\n",
       "            /* Turns off some styling */\n",
       "            progress {\n",
       "                /* gets rid of default border in Firefox and Opera. */\n",
       "                border: none;\n",
       "                /* Needs to be in here for Safari polyfill so background images work as expected. */\n",
       "                background-size: auto;\n",
       "            }\n",
       "            .progress-bar-interrupted, .progress-bar-interrupted::-webkit-progress-bar {\n",
       "                background: #F44336;\n",
       "            }\n",
       "        </style>\n",
       "      <progress value='621' class='' max='685', style='width:300px; height:20px; vertical-align: middle;'></progress>\n",
       "      90.66% [621/685 05:01<00:31 1.8291]\n",
       "    </div>\n",
       "    "
      ],
      "text/plain": [
       "<IPython.core.display.HTML object>"
      ]
     },
     "metadata": {
      "tags": []
     },
     "output_type": "display_data"
    },
    {
     "name": "stdout",
     "output_type": "stream",
     "text": [
      "Buffered data was truncated after reaching the output size limit."
     ]
    }
   ],
   "source": [
    "learn.fit_one_cycle(20, 1e-2, moms=(0.8,0.7))"
   ]
  },
  {
   "cell_type": "code",
   "execution_count": 0,
   "metadata": {
    "cellView": "both",
    "colab": {},
    "colab_type": "code",
    "id": "BZDeZRsE3Xn7"
   },
   "outputs": [],
   "source": [
    "learn.save('f1')"
   ]
  },
  {
   "cell_type": "code",
   "execution_count": 0,
   "metadata": {
    "colab": {},
    "colab_type": "code",
    "id": "Wi_fsNJu3KNj"
   },
   "outputs": [],
   "source": [
    "TEXT = \"what\"\n",
    "N_WORDS = 40\n",
    "N_SENTENCES = 2"
   ]
  },
  {
   "cell_type": "code",
   "execution_count": 0,
   "metadata": {
    "colab": {},
    "colab_type": "code",
    "id": "Zh60P1h73Ni_"
   },
   "outputs": [],
   "source": [
    "print(\"\\n\".join(learn.predict(TEXT, N_WORDS, temperature=0.75) for _ in range(N_SENTENCES)))"
   ]
  },
  {
   "cell_type": "code",
   "execution_count": 0,
   "metadata": {
    "colab": {},
    "colab_type": "code",
    "id": "iekovOH43aP-"
   },
   "outputs": [],
   "source": [
    "learn.save_encoder('f2enc')"
   ]
  },
  {
   "cell_type": "markdown",
   "metadata": {
    "colab_type": "text",
    "id": "39e5v_oSznMR"
   },
   "source": [
    "# Classifier"
   ]
  },
  {
   "cell_type": "markdown",
   "metadata": {
    "colab_type": "text",
    "id": "mS6CH8Ev3c3C"
   },
   "source": [
    "## Prepare classifier data"
   ]
  },
  {
   "cell_type": "code",
   "execution_count": 0,
   "metadata": {
    "colab": {},
    "colab_type": "code",
    "id": "Iihftk_b3fb0"
   },
   "outputs": [],
   "source": [
    "clasdata = (TextList.from_df(train_csv,cols=['Title','Body'], vocab=lmdata.vocab)\n",
    "             .split_by_rand_pct(.2)\n",
    "             .label_from_df(cols=3,label_delim=' ')\n",
    "             .databunch(bs=bs))"
   ]
  },
  {
   "cell_type": "code",
   "execution_count": 24,
   "metadata": {
    "colab": {
     "base_uri": "https://localhost:8080/",
     "height": 345
    },
    "colab_type": "code",
    "id": "EmV7TKtc58zz",
    "outputId": "6ffd963b-6f6e-4069-943a-f9b84ac29133"
   },
   "outputs": [
    {
     "data": {
      "text/html": [
       "<table border=\"1\" class=\"dataframe\">\n",
       "  <thead>\n",
       "    <tr style=\"text-align: right;\">\n",
       "      <th>text</th>\n",
       "      <th>target</th>\n",
       "    </tr>\n",
       "  </thead>\n",
       "  <tbody>\n",
       "    <tr>\n",
       "      <td>xxbos xxmaj how to adds multiple images with delete add images in iphone ? &lt; p &gt; i want add multiple images in my own project like 7 images but in delete and add images is troubles . i also add images successfully . xxmaj and more also delete success . xxmaj but when i added with delete image , the image position was moved incorrect position . xxmaj can</td>\n",
       "      <td>image;iphone;uiimage;xcode</td>\n",
       "    </tr>\n",
       "    <tr>\n",
       "      <td>xxbos xxunk ios6 crash on resume ( xxup exc_bad_access ) &lt; p &gt; xxmaj the phenomenon : &lt; / p &gt; \\n \\n  &lt; p &gt; happens only on ios6 not happening on ios5 &lt; / p &gt; \\n \\n  &lt; p &gt; xxmaj app is suspended ( click on power btn on top ) and immediately ( xxunk - 2 sec ) resumed -- &gt; no issue</td>\n",
       "      <td>ios6;iphone;phonegap</td>\n",
       "    </tr>\n",
       "    <tr>\n",
       "      <td>xxbos xxmaj webkit xxmaj scrollbar disappears when page is reloaded &lt; p &gt; i just downloaded this template from &lt; a href=\"http : / / xxunk / \" xxunk &lt; / a &gt; and i noticed that i ca n't use the webkit scrollbar properly . i have another page with the same exact css webkit code and it works perfectly . xxmaj when i load the faulty page from</td>\n",
       "      <td>css;webkit</td>\n",
       "    </tr>\n",
       "    <tr>\n",
       "      <td>xxbos xxmaj receiving xxmaj index xxmaj out of xxmaj range with nhibernate &lt; p &gt; xxmaj i'm hoping that someone can help me with this issue . i 've been xxunk \\n  my brain and my project is due very soon . xxmaj thank xxmaj you in advance . &lt; / p &gt; \\n \\n  &lt; p &gt; xxmaj i'm receiving an index out of range exception when</td>\n",
       "      <td>nhibernate;nhibernate-mapping</td>\n",
       "    </tr>\n",
       "    <tr>\n",
       "      <td>xxbos xxup sql xxmaj server lock issue ( distributed transactions with xxup wcf ) &lt; p &gt; xxmaj i'm having a problem with distributed transactions . &lt; / p &gt; \\n \\n  &lt; p &gt; xxmaj i'm using xxup sql xxmaj server 2008 xxup r2 , xxmaj windows 7 , .net 4.0 . &lt; / p &gt; \\n \\n  &lt; p &gt; xxmaj here 's what i actually</td>\n",
       "      <td>c#;soap;sql-server;transactions;wcf</td>\n",
       "    </tr>\n",
       "  </tbody>\n",
       "</table>"
      ],
      "text/plain": [
       "<IPython.core.display.HTML object>"
      ]
     },
     "metadata": {
      "tags": []
     },
     "output_type": "display_data"
    }
   ],
   "source": [
    "clasdata.show_batch()"
   ]
  },
  {
   "cell_type": "markdown",
   "metadata": {
    "colab_type": "text",
    "id": "LuIB9zJczqMI"
   },
   "source": [
    "## Train classifier"
   ]
  },
  {
   "cell_type": "code",
   "execution_count": 0,
   "metadata": {
    "colab": {},
    "colab_type": "code",
    "id": "3fwshG775PTM"
   },
   "outputs": [],
   "source": [
    "clslearn = text_classifier_learner(clasdata,AWD_LSTM,drop_mult=.5,path='.')\n",
    "# load language model\n",
    "clslearn.load_encoder('f2enc')\n",
    "clslearn.freeze()"
   ]
  },
  {
   "cell_type": "code",
   "execution_count": 26,
   "metadata": {
    "colab": {
     "base_uri": "https://localhost:8080/",
     "height": 34
    },
    "colab_type": "code",
    "id": "6qJYc_4K5caj",
    "outputId": "0b3c9339-821a-4682-8f1b-ad9bcb45e6b7"
   },
   "outputs": [
    {
     "data": {
      "text/html": [],
      "text/plain": [
       "<IPython.core.display.HTML object>"
      ]
     },
     "metadata": {
      "tags": []
     },
     "output_type": "display_data"
    },
    {
     "name": "stdout",
     "output_type": "stream",
     "text": [
      "LR Finder is complete, type {learner_name}.recorder.plot() to see the graph.\n"
     ]
    }
   ],
   "source": [
    "clslearn.lr_find()"
   ]
  },
  {
   "cell_type": "code",
   "execution_count": 27,
   "metadata": {
    "colab": {
     "base_uri": "https://localhost:8080/",
     "height": 283
    },
    "colab_type": "code",
    "id": "TvAWh_41AW1g",
    "outputId": "e9a49973-5032-49a2-966b-c1447ae46201"
   },
   "outputs": [
    {
     "data": {
      "image/png": "[encoded data removed]",
      "text/plain": [
       "<Figure size 432x288 with 1 Axes>"
      ]
     },
     "metadata": {
      "tags": []
     },
     "output_type": "display_data"
    }
   ],
   "source": [
    "clslearn.recorder.plot()"
   ]
  },
  {
   "cell_type": "code",
   "execution_count": 28,
   "metadata": {
    "colab": {
     "base_uri": "https://localhost:8080/",
     "height": 677
    },
    "colab_type": "code",
    "id": "LZZ6rRK9AfTA",
    "outputId": "c7e29d00-71ff-4cfc-c395-5a35ce2a3ad6"
   },
   "outputs": [
    {
     "data": {
      "text/html": [
       "<table border=\"1\" class=\"dataframe\">\n",
       "  <thead>\n",
       "    <tr style=\"text-align: left;\">\n",
       "      <th>epoch</th>\n",
       "      <th>train_loss</th>\n",
       "      <th>valid_loss</th>\n",
       "      <th>time</th>\n",
       "    </tr>\n",
       "  </thead>\n",
       "  <tbody>\n",
       "    <tr>\n",
       "      <td>0</td>\n",
       "      <td>0.256046</td>\n",
       "      <td>0.070433</td>\n",
       "      <td>02:49</td>\n",
       "    </tr>\n",
       "    <tr>\n",
       "      <td>1</td>\n",
       "      <td>0.018491</td>\n",
       "      <td>0.004906</td>\n",
       "      <td>02:45</td>\n",
       "    </tr>\n",
       "    <tr>\n",
       "      <td>2</td>\n",
       "      <td>0.004566</td>\n",
       "      <td>0.003167</td>\n",
       "      <td>02:44</td>\n",
       "    </tr>\n",
       "    <tr>\n",
       "      <td>3</td>\n",
       "      <td>0.003639</td>\n",
       "      <td>0.002772</td>\n",
       "      <td>02:43</td>\n",
       "    </tr>\n",
       "    <tr>\n",
       "      <td>4</td>\n",
       "      <td>0.003481</td>\n",
       "      <td>0.002654</td>\n",
       "      <td>02:40</td>\n",
       "    </tr>\n",
       "    <tr>\n",
       "      <td>5</td>\n",
       "      <td>0.003351</td>\n",
       "      <td>0.002504</td>\n",
       "      <td>02:51</td>\n",
       "    </tr>\n",
       "    <tr>\n",
       "      <td>6</td>\n",
       "      <td>0.003176</td>\n",
       "      <td>0.002461</td>\n",
       "      <td>02:50</td>\n",
       "    </tr>\n",
       "    <tr>\n",
       "      <td>7</td>\n",
       "      <td>0.003083</td>\n",
       "      <td>0.002404</td>\n",
       "      <td>02:44</td>\n",
       "    </tr>\n",
       "    <tr>\n",
       "      <td>8</td>\n",
       "      <td>0.002950</td>\n",
       "      <td>0.002384</td>\n",
       "      <td>02:36</td>\n",
       "    </tr>\n",
       "    <tr>\n",
       "      <td>9</td>\n",
       "      <td>0.002857</td>\n",
       "      <td>0.002408</td>\n",
       "      <td>02:37</td>\n",
       "    </tr>\n",
       "    <tr>\n",
       "      <td>10</td>\n",
       "      <td>0.002800</td>\n",
       "      <td>0.002341</td>\n",
       "      <td>02:58</td>\n",
       "    </tr>\n",
       "    <tr>\n",
       "      <td>11</td>\n",
       "      <td>0.002685</td>\n",
       "      <td>0.002350</td>\n",
       "      <td>02:42</td>\n",
       "    </tr>\n",
       "    <tr>\n",
       "      <td>12</td>\n",
       "      <td>0.002598</td>\n",
       "      <td>0.002359</td>\n",
       "      <td>02:39</td>\n",
       "    </tr>\n",
       "    <tr>\n",
       "      <td>13</td>\n",
       "      <td>0.002562</td>\n",
       "      <td>0.002365</td>\n",
       "      <td>02:40</td>\n",
       "    </tr>\n",
       "    <tr>\n",
       "      <td>14</td>\n",
       "      <td>0.002478</td>\n",
       "      <td>0.002333</td>\n",
       "      <td>02:38</td>\n",
       "    </tr>\n",
       "    <tr>\n",
       "      <td>15</td>\n",
       "      <td>0.002410</td>\n",
       "      <td>0.002332</td>\n",
       "      <td>02:44</td>\n",
       "    </tr>\n",
       "    <tr>\n",
       "      <td>16</td>\n",
       "      <td>0.002366</td>\n",
       "      <td>0.002331</td>\n",
       "      <td>02:53</td>\n",
       "    </tr>\n",
       "    <tr>\n",
       "      <td>17</td>\n",
       "      <td>0.002288</td>\n",
       "      <td>0.002326</td>\n",
       "      <td>02:37</td>\n",
       "    </tr>\n",
       "    <tr>\n",
       "      <td>18</td>\n",
       "      <td>0.002278</td>\n",
       "      <td>0.002331</td>\n",
       "      <td>02:37</td>\n",
       "    </tr>\n",
       "    <tr>\n",
       "      <td>19</td>\n",
       "      <td>0.002180</td>\n",
       "      <td>0.002333</td>\n",
       "      <td>02:30</td>\n",
       "    </tr>\n",
       "  </tbody>\n",
       "</table>"
      ],
      "text/plain": [
       "<IPython.core.display.HTML object>"
      ]
     },
     "metadata": {
      "tags": []
     },
     "output_type": "display_data"
    }
   ],
   "source": [
    "clslearn.fit_one_cycle(20, 2e-2, moms=(0.8,0.7))"
   ]
  },
  {
   "cell_type": "markdown",
   "metadata": {
    "colab_type": "text",
    "id": "993ZDBA_z3eg"
   },
   "source": [
    "# Predictions"
   ]
  },
  {
   "cell_type": "markdown",
   "metadata": {
    "colab_type": "text",
    "id": "gQF_OFXW7ND4"
   },
   "source": [
    "Preparing a dataframe for validation predictions"
   ]
  },
  {
   "cell_type": "code",
   "execution_count": 0,
   "metadata": {
    "colab": {},
    "colab_type": "code",
    "id": "KM2hvqGI4DTt"
   },
   "outputs": [],
   "source": [
    "valid_preds = pd.DataFrame(columns=['Text','Actual Tags','Predicted Tags'])"
   ]
  },
  {
   "cell_type": "markdown",
   "metadata": {
    "colab_type": "text",
    "id": "Tbqyu_I-7XXb"
   },
   "source": [
    "Threshold for selecting a label. A label should have at least this much probabilty to be considered."
   ]
  },
  {
   "cell_type": "code",
   "execution_count": 0,
   "metadata": {
    "colab": {},
    "colab_type": "code",
    "id": "icl1LSxl6eTA"
   },
   "outputs": [],
   "source": [
    "thresh = .2"
   ]
  },
  {
   "cell_type": "code",
   "execution_count": 0,
   "metadata": {
    "colab": {},
    "colab_type": "code",
    "id": "JBUkoo7q8cle"
   },
   "outputs": [],
   "source": [
    "from fastprogress import progress_bar"
   ]
  },
  {
   "cell_type": "code",
   "execution_count": 0,
   "metadata": {
    "colab": {},
    "colab_type": "code",
    "id": "XM6A0NWu8foT"
   },
   "outputs": [],
   "source": [
    "progbar = progress_bar(range(len(clslearn.data.valid_ds)))"
   ]
  },
  {
   "cell_type": "code",
   "execution_count": 214,
   "metadata": {
    "colab": {
     "base_uri": "https://localhost:8080/",
     "height": 37
    },
    "colab_type": "code",
    "id": "NI9IJi5v4Pxg",
    "outputId": "5082dfe2-e63b-4b77-89e5-c3428c67989b"
   },
   "outputs": [
    {
     "data": {
      "text/html": [
       "\n",
       "    <div>\n",
       "        <style>\n",
       "            /* Turns off some styling */\n",
       "            progress {\n",
       "                /* gets rid of default border in Firefox and Opera. */\n",
       "                border: none;\n",
       "                /* Needs to be in here for Safari polyfill so background images work as expected. */\n",
       "                background-size: auto;\n",
       "            }\n",
       "            .progress-bar-interrupted, .progress-bar-interrupted::-webkit-progress-bar {\n",
       "                background: #F44336;\n",
       "            }\n",
       "        </style>\n",
       "      <progress value='2000' class='' max='2000', style='width:300px; height:20px; vertical-align: middle;'></progress>\n",
       "      100.00% [2000/2000 08:09<00:00]\n",
       "    </div>\n",
       "    "
      ],
      "text/plain": [
       "<IPython.core.display.HTML object>"
      ]
     },
     "metadata": {
      "tags": []
     },
     "output_type": "display_data"
    }
   ],
   "source": [
    "for i in progbar:\n",
    "  valid_item = clslearn.data.valid_ds[i]\n",
    "  text = str(valid_item[0])\n",
    "  actuals = str(valid_item[1])\n",
    "  \n",
    "  # make predictions\n",
    "  pred = clslearn.predict(text)\n",
    "  probs = np.array(pred[2])\n",
    "  labels=\";\".join(list(classes[probs>thresh]))\n",
    "  \n",
    "  # add row\n",
    "  valid_preds.loc[i]=[text,actuals,labels]"
   ]
  },
  {
   "cell_type": "markdown",
   "metadata": {
    "colab_type": "text",
    "id": "BMwiEJ0O7mBN"
   },
   "source": [
    "Results on validation set:"
   ]
  },
  {
   "cell_type": "code",
   "execution_count": 215,
   "metadata": {
    "colab": {
     "base_uri": "https://localhost:8080/",
     "height": 677
    },
    "colab_type": "code",
    "id": "7zGXZOZ65YbA",
    "outputId": "337b1a38-bb36-4aca-874c-4b43c4b3afaa"
   },
   "outputs": [
    {
     "data": {
      "text/html": [
       "<div>\n",
       "<style scoped>\n",
       "    .dataframe tbody tr th:only-of-type {\n",
       "        vertical-align: middle;\n",
       "    }\n",
       "\n",
       "    .dataframe tbody tr th {\n",
       "        vertical-align: top;\n",
       "    }\n",
       "\n",
       "    .dataframe thead th {\n",
       "        text-align: right;\n",
       "    }\n",
       "</style>\n",
       "<table border=\"1\" class=\"dataframe\">\n",
       "  <thead>\n",
       "    <tr style=\"text-align: right;\">\n",
       "      <th></th>\n",
       "      <th>Text</th>\n",
       "      <th>Actual Tags</th>\n",
       "      <th>Predicted Tags</th>\n",
       "    </tr>\n",
       "  </thead>\n",
       "  <tbody>\n",
       "    <tr>\n",
       "      <th>0</th>\n",
       "      <td>xxbos xxmaj how to block the mysql export opti...</td>\n",
       "      <td>mysql</td>\n",
       "      <td>database;mysql</td>\n",
       "    </tr>\n",
       "    <tr>\n",
       "      <th>1</th>\n",
       "      <td>xxbos xxmaj share itunes music but not podcast...</td>\n",
       "      <td>itunes;sharing</td>\n",
       "      <td>audio;video</td>\n",
       "    </tr>\n",
       "    <tr>\n",
       "      <th>2</th>\n",
       "      <td>xxbos xxmaj can i use routes to influence whic...</td>\n",
       "      <td>networking;linux;multicast</td>\n",
       "      <td>networking;openvpn;quagga;router;routing</td>\n",
       "    </tr>\n",
       "    <tr>\n",
       "      <th>3</th>\n",
       "      <td>xxbos xxmaj different uses for runat=\"server \"...</td>\n",
       "      <td>javascript;asp.net</td>\n",
       "      <td>ajax;asp.net;javascript</td>\n",
       "    </tr>\n",
       "    <tr>\n",
       "      <th>4</th>\n",
       "      <td>xxbos xxmaj infinite pop up error while using ...</td>\n",
       "      <td>jquery;android;html5;phonegap</td>\n",
       "      <td>android;jquery;jquery-mobile;phonegap</td>\n",
       "    </tr>\n",
       "    <tr>\n",
       "      <th>5</th>\n",
       "      <td>xxbos xxmaj difference between shutdown and sh...</td>\n",
       "      <td>java;java.util.concurrent</td>\n",
       "      <td>multithreading</td>\n",
       "    </tr>\n",
       "    <tr>\n",
       "      <th>6</th>\n",
       "      <td>xxbos xxmaj eclipse xxup xxunk with c running ...</td>\n",
       "      <td>c;eclipse</td>\n",
       "      <td>c++</td>\n",
       "    </tr>\n",
       "    <tr>\n",
       "      <th>7</th>\n",
       "      <td>xxbos xxmaj exporting html table to xxunk exce...</td>\n",
       "      <td>php;javascript;export-to-excel</td>\n",
       "      <td>php</td>\n",
       "    </tr>\n",
       "    <tr>\n",
       "      <th>8</th>\n",
       "      <td>xxbos does xxunk : animations : block main thr...</td>\n",
       "      <td>iphone;objective-c;cocoa-touch;animation;multi...</td>\n",
       "      <td>ios;iphone;objective-c;xcode</td>\n",
       "    </tr>\n",
       "    <tr>\n",
       "      <th>9</th>\n",
       "      <td>xxbos xxmaj spring dependency injection : xxma...</td>\n",
       "      <td>java;spring;dependency-injection</td>\n",
       "      <td>java;spring</td>\n",
       "    </tr>\n",
       "    <tr>\n",
       "      <th>10</th>\n",
       "      <td>xxbos xxmaj isolate characters from string &lt; p...</td>\n",
       "      <td>c#;.net;string</td>\n",
       "      <td>c#;regex</td>\n",
       "    </tr>\n",
       "    <tr>\n",
       "      <th>11</th>\n",
       "      <td>xxbos xxmaj is there a language or design patt...</td>\n",
       "      <td>design-patterns</td>\n",
       "      <td></td>\n",
       "    </tr>\n",
       "    <tr>\n",
       "      <th>12</th>\n",
       "      <td>xxbos xxmaj java console from eclipse &lt; p &gt; i ...</td>\n",
       "      <td>java;eclipse;console;user-input;java-6</td>\n",
       "      <td>java</td>\n",
       "    </tr>\n",
       "    <tr>\n",
       "      <th>13</th>\n",
       "      <td>xxbos xxmaj how to add value to the table from...</td>\n",
       "      <td>ruby-on-rails;ruby-on-rails-3</td>\n",
       "      <td></td>\n",
       "    </tr>\n",
       "    <tr>\n",
       "      <th>14</th>\n",
       "      <td>xxbos xxmaj array of colors in python &lt; p &gt; xx...</td>\n",
       "      <td>python</td>\n",
       "      <td>python</td>\n",
       "    </tr>\n",
       "    <tr>\n",
       "      <th>15</th>\n",
       "      <td>xxbos sql stored procedure execute command &lt; p...</td>\n",
       "      <td>sql-server;tsql;stored-procedures</td>\n",
       "      <td>oracle;sql;sql-server;stored-procedures</td>\n",
       "    </tr>\n",
       "    <tr>\n",
       "      <th>16</th>\n",
       "      <td>xxbos xxmaj parsing command line options in a ...</td>\n",
       "      <td>c;xcode;osx;command-line</td>\n",
       "      <td>python</td>\n",
       "    </tr>\n",
       "    <tr>\n",
       "      <th>17</th>\n",
       "      <td>xxbos xxmaj mac xxup osx app from xxup usb &lt; p...</td>\n",
       "      <td>cocoa;usb</td>\n",
       "      <td></td>\n",
       "    </tr>\n",
       "    <tr>\n",
       "      <th>18</th>\n",
       "      <td>xxbos xxmaj prevent xxup php from automaticall...</td>\n",
       "      <td>php;php5;markdown</td>\n",
       "      <td>javascript;jquery;php</td>\n",
       "    </tr>\n",
       "    <tr>\n",
       "      <th>19</th>\n",
       "      <td>xxbos xxmaj services used to store user info a...</td>\n",
       "      <td>java;android</td>\n",
       "      <td></td>\n",
       "    </tr>\n",
       "  </tbody>\n",
       "</table>\n",
       "</div>"
      ],
      "text/plain": [
       "                                                 Text  ...                            Predicted Tags\n",
       "0   xxbos xxmaj how to block the mysql export opti...  ...                            database;mysql\n",
       "1   xxbos xxmaj share itunes music but not podcast...  ...                               audio;video\n",
       "2   xxbos xxmaj can i use routes to influence whic...  ...  networking;openvpn;quagga;router;routing\n",
       "3   xxbos xxmaj different uses for runat=\"server \"...  ...                   ajax;asp.net;javascript\n",
       "4   xxbos xxmaj infinite pop up error while using ...  ...     android;jquery;jquery-mobile;phonegap\n",
       "5   xxbos xxmaj difference between shutdown and sh...  ...                            multithreading\n",
       "6   xxbos xxmaj eclipse xxup xxunk with c running ...  ...                                       c++\n",
       "7   xxbos xxmaj exporting html table to xxunk exce...  ...                                       php\n",
       "8   xxbos does xxunk : animations : block main thr...  ...              ios;iphone;objective-c;xcode\n",
       "9   xxbos xxmaj spring dependency injection : xxma...  ...                               java;spring\n",
       "10  xxbos xxmaj isolate characters from string < p...  ...                                  c#;regex\n",
       "11  xxbos xxmaj is there a language or design patt...  ...                                          \n",
       "12  xxbos xxmaj java console from eclipse < p > i ...  ...                                      java\n",
       "13  xxbos xxmaj how to add value to the table from...  ...                                          \n",
       "14  xxbos xxmaj array of colors in python < p > xx...  ...                                    python\n",
       "15  xxbos sql stored procedure execute command < p...  ...   oracle;sql;sql-server;stored-procedures\n",
       "16  xxbos xxmaj parsing command line options in a ...  ...                                    python\n",
       "17  xxbos xxmaj mac xxup osx app from xxup usb < p...  ...                                          \n",
       "18  xxbos xxmaj prevent xxup php from automaticall...  ...                     javascript;jquery;php\n",
       "19  xxbos xxmaj services used to store user info a...  ...                                          \n",
       "\n",
       "[20 rows x 3 columns]"
      ]
     },
     "execution_count": 215,
     "metadata": {
      "tags": []
     },
     "output_type": "execute_result"
    }
   ],
   "source": [
    "valid_preds.head(20)"
   ]
  },
  {
   "cell_type": "markdown",
   "metadata": {
    "colab_type": "text",
    "id": "5mVgOqzu9HYw"
   },
   "source": [
    "Save to csv"
   ]
  },
  {
   "cell_type": "code",
   "execution_count": 0,
   "metadata": {
    "colab": {},
    "colab_type": "code",
    "id": "mCh4k2CB8ykg"
   },
   "outputs": [],
   "source": [
    "valid_preds.to_csv('predictions.csv',index=False)"
   ]
  }
 ],
 "metadata": {
  "accelerator": "GPU",
  "colab": {
   "name": "FacebookNLP.ipynb",
   "provenance": [],
   "version": "0.3.2"
  },
  "kernelspec": {
   "display_name": "Python 3",
   "language": "python",
   "name": "python3"
  },
  "language_info": {
   "codemirror_mode": {
    "name": "ipython",
    "version": 3
   },
   "file_extension": ".py",
   "mimetype": "text/x-python",
   "name": "python",
   "nbconvert_exporter": "python",
   "pygments_lexer": "ipython3",
   "version": "3.6.8"
  }
 },
 "nbformat": 4,
 "nbformat_minor": 1
}
